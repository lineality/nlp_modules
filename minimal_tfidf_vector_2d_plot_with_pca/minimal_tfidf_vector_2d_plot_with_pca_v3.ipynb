{
 "cells": [
  {
   "cell_type": "markdown",
   "metadata": {},
   "source": [
    "# minimal_tfidf_vector_2d_plot_with_pca\n",
    "\n",
    "#### Recommended Starter Code:\n",
    "```\n",
    "$ python3 -m venv env; source env/bin/activate\n",
    "$ python3 -m pip install --upgrade pip\n",
    "$ python3 -m pip install pandas numpy nltk scikit-learn matplotlib jupyter\n",
    "```\n"
   ]
  },
  {
   "cell_type": "code",
   "execution_count": 1,
   "metadata": {},
   "outputs": [],
   "source": [
    "# Part 1: Vectors\n",
    "\n",
    "# Import Libraries\n",
    "import pandas as pd\n",
    "import numpy as np\n",
    "from sklearn.feature_extraction.text import TfidfVectorizer\n",
    "from nltk.tokenize.casual import casual_tokenize"
   ]
  },
  {
   "cell_type": "code",
   "execution_count": 5,
   "metadata": {},
   "outputs": [
    {
     "data": {
      "text/html": [
       "<div>\n",
       "<style scoped>\n",
       "    .dataframe tbody tr th:only-of-type {\n",
       "        vertical-align: middle;\n",
       "    }\n",
       "\n",
       "    .dataframe tbody tr th {\n",
       "        vertical-align: top;\n",
       "    }\n",
       "\n",
       "    .dataframe thead th {\n",
       "        text-align: right;\n",
       "    }\n",
       "</style>\n",
       "<table border=\"1\" class=\"dataframe\">\n",
       "  <thead>\n",
       "    <tr style=\"text-align: right;\">\n",
       "      <th></th>\n",
       "      <th>v1</th>\n",
       "      <th>v2</th>\n",
       "      <th>Unnamed: 2</th>\n",
       "      <th>Unnamed: 3</th>\n",
       "      <th>Unnamed: 4</th>\n",
       "    </tr>\n",
       "  </thead>\n",
       "  <tbody>\n",
       "    <tr>\n",
       "      <th>0</th>\n",
       "      <td>ham</td>\n",
       "      <td>Go until jurong point, crazy.. Available only ...</td>\n",
       "      <td>NaN</td>\n",
       "      <td>NaN</td>\n",
       "      <td>NaN</td>\n",
       "    </tr>\n",
       "    <tr>\n",
       "      <th>1</th>\n",
       "      <td>ham</td>\n",
       "      <td>Ok lar... Joking wif u oni...</td>\n",
       "      <td>NaN</td>\n",
       "      <td>NaN</td>\n",
       "      <td>NaN</td>\n",
       "    </tr>\n",
       "  </tbody>\n",
       "</table>\n",
       "</div>"
      ],
      "text/plain": [
       "    v1                                                 v2 Unnamed: 2  \\\n",
       "0  ham  Go until jurong point, crazy.. Available only ...        NaN   \n",
       "1  ham                      Ok lar... Joking wif u oni...        NaN   \n",
       "\n",
       "  Unnamed: 3 Unnamed: 4  \n",
       "0        NaN        NaN  \n",
       "1        NaN        NaN  "
      ]
     },
     "execution_count": 5,
     "metadata": {},
     "output_type": "execute_result"
    }
   ],
   "source": [
    "# Load Data\n",
    "\"\"\"\n",
    "This module is meant to be a generic data-viz tool for use with any NLP data .csv.\n",
    "\n",
    "The sample input file used here is the classic sms spam file from UCI:\n",
    "https://www.kaggle.com/datasets/uciml/sms-spam-collection-dataset\n",
    "\n",
    "or as a text file, here:\n",
    "https://archive.ics.uci.edu/ml/datasets/SMS+Spam+Collection\n",
    "  \n",
    "Hopefully any nlp data .csv will work. (encoding and header issues asside, etc.)\n",
    "You will need to specify your data file name and data column name.\n",
    "\"\"\"\n",
    "\n",
    "# Data File Name\n",
    "name_of_data_file = \"uciml_spam.csv\"\n",
    "\n",
    "\n",
    "# load csv into a pandas data frame\n",
    "text_df = pd.read_csv( name_of_data_file, encoding = \"ISO-8859-1\", engine ='python' )\n",
    "\n",
    "# inspect\n",
    "text_df.head(2)"
   ]
  },
  {
   "cell_type": "code",
   "execution_count": 6,
   "metadata": {},
   "outputs": [
    {
     "name": "stderr",
     "output_type": "stream",
     "text": [
      "/home/oops/code/nlp/blog_test/env/lib64/python3.11/site-packages/sklearn/feature_extraction/text.py:528: UserWarning: The parameter 'token_pattern' will not be used since 'tokenizer' is not None'\n",
      "  warnings.warn(\n"
     ]
    },
    {
     "name": "stdout",
     "output_type": "stream",
     "text": [
      "<class 'numpy.ndarray'>\n"
     ]
    }
   ],
   "source": [
    "###########################\n",
    "# Minimal TFIDF Vectorizes \n",
    "###########################\n",
    "\n",
    "# Select Name:\n",
    "name_of_text_data_column = \"v2\"\n",
    "\n",
    "# Select Model\n",
    "tfidf_model = TfidfVectorizer(tokenizer=casual_tokenize)\n",
    "\n",
    "# Fit Model\n",
    "tfidf_vectors = tfidf_model.fit_transform( raw_documents=text_df[name_of_text_data_column] ).toarray()\n",
    "\n",
    "# Inspection:\n",
    "print(type(tfidf_vectors))"
   ]
  },
  {
   "cell_type": "code",
   "execution_count": 7,
   "metadata": {},
   "outputs": [
    {
     "data": {
      "image/png": "[encoded data removed]",
      "text/plain": [
       "<Figure size 640x480 with 1 Axes>"
      ]
     },
     "metadata": {},
     "output_type": "display_data"
    }
   ],
   "source": [
    "# Part 2: Plot\n",
    "\n",
    "#########################\n",
    "# Minimal PCA to 2d-plot\n",
    "#########################\n",
    "\n",
    "# Libraries\n",
    "import pandas as pd\n",
    "from sklearn.decomposition import PCA\n",
    "from matplotlib import pyplot as plt\n",
    "%matplotlib inline\n",
    "\n",
    "# Set PCA to 2D [sklearn]\n",
    "pca = PCA(n_components=2)\n",
    "\n",
    "# Name of Vector Array (Numpy)\n",
    "name_of_vector_array = tfidf_vectors\n",
    "\n",
    "# New D2 Dataframe (PCA)\n",
    "df2d = pd.DataFrame(pca.fit_transform(name_of_vector_array), columns=list('xy'))\n",
    "\n",
    "# Plot Data Visualization (Matplotlib)\n",
    "df2d.plot(kind='scatter', x='x', y='y')\n",
    "plt.show()"
   ]
  },
  {
   "cell_type": "code",
   "execution_count": null,
   "metadata": {},
   "outputs": [],
   "source": [
    "\"\"\"\n",
    "https://www.manning.com/books/natural-language-processing-in-action\n",
    "\n",
    "The inspiration for this module is the very wonderful book: NLP In Action\n",
    "\n",
    "This code is not directly from chapter 4, but I wish it had been explained there. \n",
    "\"\"\"\n",
    " "
   ]
  }
 ],
 "metadata": {
  "kernelspec": {
   "display_name": "Python 3 (ipykernel)",
   "language": "python",
   "name": "python3"
  },
  "language_info": {
   "codemirror_mode": {
    "name": "ipython",
    "version": 3
   },
   "file_extension": ".py",
   "mimetype": "text/x-python",
   "name": "python",
   "nbconvert_exporter": "python",
   "pygments_lexer": "ipython3",
   "version": "3.11.2"
  }
 },
 "nbformat": 4,
 "nbformat_minor": 2
}
